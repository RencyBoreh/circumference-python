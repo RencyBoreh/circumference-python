{
 "cells": [
  {
   "cell_type": "code",
   "execution_count": 5,
   "id": "6457e711-e2a9-4646-8b56-12f302df7f0a",
   "metadata": {},
   "outputs": [
    {
     "name": "stdin",
     "output_type": "stream",
     "text": [
      "Enter the Radius: 33\n"
     ]
    },
    {
     "name": "stdout",
     "output_type": "stream",
     "text": [
      "The circumference of a Circle with a radius of 33 is 207.34511513692635\n"
     ]
    }
   ],
   "source": [
    "import math\n",
    "radius=int(input(\"Enter the Radius:\"))\n",
    "circumference=2*math.pi*radius\n",
    "\n",
    "print(f\"The circumference of a Circle with a radius of {radius} is {circumference}\")"
   ]
  },
  {
   "cell_type": "code",
   "execution_count": null,
   "id": "eafa27e4-8673-468e-be94-661b70e0bd86",
   "metadata": {},
   "outputs": [],
   "source": []
  }
 ],
 "metadata": {
  "kernelspec": {
   "display_name": "Python 3 (ipykernel)",
   "language": "python",
   "name": "python3"
  },
  "language_info": {
   "codemirror_mode": {
    "name": "ipython",
    "version": 3
   },
   "file_extension": ".py",
   "mimetype": "text/x-python",
   "name": "python",
   "nbconvert_exporter": "python",
   "pygments_lexer": "ipython3",
   "version": "3.12.4"
  }
 },
 "nbformat": 4,
 "nbformat_minor": 5
}
